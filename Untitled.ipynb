{
 "cells": [
  {
   "cell_type": "code",
   "execution_count": 12,
   "id": "f1294e1b-b527-4fd5-9c47-ef16b575e6ca",
   "metadata": {},
   "outputs": [],
   "source": [
    "import numpy as np\n",
    "a = np.array([10,9,8])\n",
    "b = np.array([7,6,5])\n",
    "c=a+b\n",
    "np.save(\"2arrays.npy\",c)"
   ]
  },
  {
   "cell_type": "code",
   "execution_count": 7,
   "id": "682c09ad-53d9-46f8-aee8-46fa4f1d796f",
   "metadata": {},
   "outputs": [],
   "source": [
    "import numpy as np\n",
    "import pandas as pd\n",
    "f=open(\"second.txt\",\"r\")\n"
   ]
  },
  {
   "cell_type": "code",
   "execution_count": 6,
   "id": "752b6564-4ac4-4718-aebf-33f4201118af",
   "metadata": {},
   "outputs": [
    {
     "ename": "SyntaxError",
     "evalue": "invalid decimal literal (4235275644.py, line 4)",
     "output_type": "error",
     "traceback": [
      "\u001b[1;36m  Cell \u001b[1;32mIn[6], line 4\u001b[1;36m\u001b[0m\n\u001b[1;33m    print(2arrays.npy)\u001b[0m\n\u001b[1;37m          ^\u001b[0m\n\u001b[1;31mSyntaxError\u001b[0m\u001b[1;31m:\u001b[0m invalid decimal literal\n"
     ]
    }
   ],
   "source": [
    "import pandas as pd\n",
    "\n",
    "f=open(\"2arrays.npy\",'r')\n",
    "print(2arrays.npy)"
   ]
  },
  {
   "cell_type": "code",
   "execution_count": null,
   "id": "1cb34112-0bf8-485e-9c19-3cb5f45e4b5b",
   "metadata": {},
   "outputs": [],
   "source": []
  }
 ],
 "metadata": {
  "kernelspec": {
   "display_name": "Python 3 (ipykernel)",
   "language": "python",
   "name": "python3"
  },
  "language_info": {
   "codemirror_mode": {
    "name": "ipython",
    "version": 3
   },
   "file_extension": ".py",
   "mimetype": "text/x-python",
   "name": "python",
   "nbconvert_exporter": "python",
   "pygments_lexer": "ipython3",
   "version": "3.12.7"
  }
 },
 "nbformat": 4,
 "nbformat_minor": 5
}
